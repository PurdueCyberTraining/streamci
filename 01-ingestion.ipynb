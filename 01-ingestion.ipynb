{
 "cells": [
  {
   "cell_type": "markdown",
   "id": "556e5294-ed43-4b71-916c-285061707310",
   "metadata": {},
   "source": [
    "# Data Ingestion to StreamCI"
   ]
  },
  {
   "cell_type": "markdown",
   "id": "8a734b38-21f3-4942-9a9b-cbd0e90f8db2",
   "metadata": {},
   "source": [
    "## Bulkload"
   ]
  },
  {
   "cell_type": "code",
   "execution_count": null,
   "id": "d15d6e2d-9c58-4e14-bd75-8336afc32147",
   "metadata": {},
   "outputs": [],
   "source": [
    "URL = \"https://api.streamci.org/data\"\n",
    "HEADERS = {\"Content-Type\": \"application/json\"}\n",
    "AUTH_INFO = {\n",
    "    \"target\": \"ci4fairtest\",\n",
    "    \"authtype\": \"secret\",\n",
    "    \"secret_key\": \"<SECRET_KEY>\"\n",
    "}"
   ]
  },
  {
   "cell_type": "code",
   "execution_count": null,
   "id": "0cd6f42a-2f40-4413-8c3b-318d999f5c00",
   "metadata": {},
   "outputs": [],
   "source": [
    "import requests\n",
    "import random\n",
    "import string\n",
    "import json\n",
    "\n",
    "with open(\"sensor_data.json\", \"r\") as f:\n",
    "    data = json.load(f)\n",
    "\n",
    "    payload = {\n",
    "        \"auth\": AUTH_INFO,\n",
    "        \"request\": {\n",
    "            \"method\": \"bulkload\",\n",
    "            \"datatype\": \"json\",\n",
    "            \"data\": data\n",
    "        }\n",
    "    }\n",
    "\n",
    "    response = requests.post(URL, json=payload, headers=HEADERS)\n",
    "\n",
    "    print(\"Response:\", response.text)"
   ]
  },
  {
   "cell_type": "markdown",
   "id": "b43e9a19-d964-46f6-9d75-345f269e2104",
   "metadata": {},
   "source": [
    "## Single Ingestion"
   ]
  },
  {
   "cell_type": "code",
   "execution_count": null,
   "id": "1613b4ba-ec68-46b1-949a-5b72cf346515",
   "metadata": {},
   "outputs": [],
   "source": [
    "import requests\n",
    "import random\n",
    "import string\n",
    "\n",
    "url = \"https://api.streamci.org/data\"\n",
    "\n",
    "payload = {\n",
    "    \"auth\": AUTH_INFO,\n",
    "    \"request\": {\n",
    "        \"method\": \"insert\",\n",
    "        \"data\": {\n",
    "            \"time\": {\"$date\": \"2025-06-02T02:09:14.540Z\"},\n",
    "            \"deviceID\": \"sensor2\",\n",
    "            \"val1\": random.randint(1, 100),\n",
    "            \"val2\": random.uniform(1.0, 10.0),\n",
    "\n",
    "        }\n",
    "    }\n",
    "}\n",
    "\n",
    "response = requests.post(URL, json=payload, headers=HEADERS)\n",
    "\n",
    "print(\"Response:\", response.text)"
   ]
  },
  {
   "cell_type": "code",
   "execution_count": null,
   "id": "552e7821-e0a7-4832-b05d-8d15c98e88eb",
   "metadata": {},
   "outputs": [],
   "source": []
  }
 ],
 "metadata": {
  "kernelspec": {
   "display_name": "Python 3 (ipykernel)",
   "language": "python",
   "name": "python3"
  },
  "language_info": {
   "codemirror_mode": {
    "name": "ipython",
    "version": 3
   },
   "file_extension": ".py",
   "mimetype": "text/x-python",
   "name": "python",
   "nbconvert_exporter": "python",
   "pygments_lexer": "ipython3",
   "version": "3.8.13"
  }
 },
 "nbformat": 4,
 "nbformat_minor": 5
}
