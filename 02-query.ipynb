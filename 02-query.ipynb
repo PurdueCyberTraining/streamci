{
 "cells": [
  {
   "cell_type": "markdown",
   "id": "c1bd9d5d-a022-4656-b6f5-dca0db325974",
   "metadata": {
    "tags": []
   },
   "source": [
    "# Querying Data from StreamCI"
   ]
  },
  {
   "cell_type": "markdown",
   "id": "6278c7ad-f009-41d6-9f51-175bb9002cb0",
   "metadata": {},
   "source": [
    "## 📡 Set URL, Request Headers, and Authentication Information\n",
    "\n",
    "To retrieve data, we'll send a query to the `/query` endpoint. The response will be returned in [NDJSON](http://ndjson.org/) (Newline-Delimited JSON) format, so we’ll parse each line into a JSON object.\n",
    "\n",
    "---\n",
    "\n",
    "#### 🧠 `query(payload)` – Send a Query and Parse NDJSON Response"
   ]
  },
  {
   "cell_type": "code",
   "execution_count": null,
   "id": "d624ad5f-f260-4359-9f07-cc203f4018b0",
   "metadata": {},
   "outputs": [],
   "source": [
    "import requests\n",
    "import json\n",
    "\n",
    "URL = \"https://api.streamci.org/query\"\n",
    "HEADERS = {\"Content-Type\": \"application/json\"}\n",
    "AUTH_INFO = {\n",
    "    \"target\": \"userXX\",\n",
    "    \"authtype\": \"secret\",\n",
    "    \"secret_key\": \"\"\n",
    "}\n",
    "\n",
    "def query(payload):\n",
    "    response = requests.post(URL, json=payload, headers=HEADERS)\n",
    "    ndjson_text = response.text  # Get response as raw text (NDJSON)\n",
    "    lines = ndjson_text.strip().splitlines()  # Split by line\n",
    "    json_array = [json.loads(line) for line in lines] # Parse each line into a JSON object\n",
    "    return json_array"
   ]
  },
  {
   "cell_type": "markdown",
   "id": "b33193f7-e572-4fdf-a0a2-5b81f006c9cf",
   "metadata": {},
   "source": [
    "---\n",
    "\n",
    "## 📦 Sample Query Payload\n",
    "\n",
    "To build the payload, define the `auth` section for authentication and a `request` section that specifies the query method and options. \n",
    "\n",
    "In the `request`, you can include filters (`query`), selected fields (`project`), sorting rules (`sort`), and record limit (`limit`).\n",
    "\n",
    "\n",
    "- **`query`**: Specifies the filter criteria to select records. An empty `{}` returns all records.\n",
    "- **`project`**: Defines which fields to include in the result. Useful for reducing payload size.\n",
    "- **`sort`**: Determines the order of the results based on one or more fields (`1` for ascending, `-1` for descending).\n",
    "- **`limit`**: Can be added to restrict the number of records returned.\n",
    "\n",
    "\n"
   ]
  },
  {
   "cell_type": "code",
   "execution_count": null,
   "id": "fa6d579e-086e-4093-8c5f-0a83ee064494",
   "metadata": {},
   "outputs": [],
   "source": [
    "payload = {\n",
    "    \"auth\": AUTH_INFO,\n",
    "    \"request\": {\n",
    "        \"method\": \"query\",\n",
    "        \"query\": {},                                     # Match all records\n",
    "    }\n",
    "}\n",
    "response = query(payload)\n",
    "print(\"Responses: \", len(response), \"records\")"
   ]
  },
  {
   "cell_type": "code",
   "execution_count": null,
   "id": "82c42114-d964-4fcd-975a-8f52c10ce054",
   "metadata": {},
   "outputs": [],
   "source": [
    "payload = {\n",
    "    \"auth\": AUTH_INFO,\n",
    "    \"request\": {\n",
    "        \"method\": \"query\",\n",
    "        \"query\": {\n",
    "            \"time\": {\n",
    "                \"$gte\": {\"$date\": \"2025-08-04T12:00:00.000Z\"}, \n",
    "                \"$lt\": {\"$date\": \"2025-08-04T13:00:00.000Z\"}  # Filter with the \"time\" range\n",
    "            }\n",
    "        },\n",
    "    }\n",
    "}\n",
    "response = query(payload)\n",
    "print(\"Responses: \", len(response), \"records\")"
   ]
  },
  {
   "cell_type": "code",
   "execution_count": null,
   "id": "f91612f3-9909-4ed0-a20c-a0c1dac73ef9",
   "metadata": {},
   "outputs": [],
   "source": [
    "payload = {\n",
    "    \"auth\": AUTH_INFO,\n",
    "    \"request\": {\n",
    "        \"method\": \"query\",\n",
    "        \"query\": {\n",
    "            \"time\": {\n",
    "                \"$gte\": {\"$date\": \"2025-08-04T12:00:00.000Z\"}, \n",
    "                \"$lt\": {\"$date\": \"2025-08-04T13:00:00.000Z\"}  # Filter with the \"time\" range\n",
    "            },\n",
    "            \"deviceID\": \"sensor1\"                             # Filter with the deviceID == \"sensor1\"\n",
    "        },\n",
    "    }\n",
    "}\n",
    "response = query(payload)\n",
    "print(\"Responses: \", len(response), \"records\")\n",
    "print(\"Sample: \", response[0])"
   ]
  },
  {
   "cell_type": "code",
   "execution_count": null,
   "id": "ad01b33a-3766-4abe-8f79-fddabb3a8e34",
   "metadata": {},
   "outputs": [],
   "source": [
    "payload = {\n",
    "    \"auth\": AUTH_INFO,\n",
    "    \"request\": {\n",
    "        \"method\": \"query\",\n",
    "        \"query\": {\n",
    "            \"time\": {\n",
    "                \"$gte\": {\"$date\": \"2025-08-04T12:00:00.000Z\"}, \n",
    "                \"$lt\": {\"$date\": \"2025-08-04T13:00:00.000Z\"}  # Filter with the \"time\" range\n",
    "            },\n",
    "            \"deviceID\": \"sensor1\"                             # Filter with the deviceID == \"sensor1\"\n",
    "        },\n",
    "        \"project\": [\"time\", \"deviceID\", \"val1\"],              # Select fields to be included: \"time\", \"deviceID\", and \"val1\"\n",
    "    }\n",
    "}\n",
    "response = query(payload)\n",
    "print(\"Responses: \", len(response), \"records\")\n",
    "print(\"Sample: \", response[0])"
   ]
  },
  {
   "cell_type": "code",
   "execution_count": null,
   "id": "8b01bcc4-661e-4ddc-8740-b1b9b8913ead",
   "metadata": {},
   "outputs": [],
   "source": [
    "payload = {\n",
    "    \"auth\": AUTH_INFO,\n",
    "    \"request\": {\n",
    "        \"method\": \"query\",\n",
    "        \"query\": {\n",
    "            \"time\": {\n",
    "                \"$gte\": {\"$date\": \"2025-08-04T12:00:00.000Z\"}, \n",
    "                \"$lt\": {\"$date\": \"2025-08-04T13:00:00.000Z\"}  # Filter with the \"time\" range\n",
    "            },\n",
    "            \"deviceID\": \"sensor1\"                             # Filter with the deviceID == \"sensor1\"\n",
    "        },\n",
    "        \"project\": [\"time\", \"deviceID\", \"val1\"],              # Select fields to be included: \"time\", \"deviceID\", and \"val1\"\n",
    "        \"sort\": {\"time\":-1},                                  # Sort by \"time\" in decending order\n",
    "        \"limit\": 1                                            # limit the number of records returned\n",
    "    }\n",
    "}\n",
    "response = query(payload)\n",
    "print(\"Responses: \", len(response), \"records\")\n",
    "print(\"Sample: \", response[0])"
   ]
  },
  {
   "cell_type": "code",
   "execution_count": null,
   "id": "b9db71a6-4432-4e1c-8598-4cf957b4ed81",
   "metadata": {},
   "outputs": [],
   "source": [
    "payload = {\n",
    "    \"auth\": AUTH_INFO,\n",
    "    \"request\": {\n",
    "        \"method\": \"query\",\n",
    "        \"query\": {},                                     \n",
    "        \"project\": [\"time\", \"deviceID\", \"val1\", \"val2\"],\n",
    "    }\n",
    "}\n",
    "response = query(payload)\n",
    "print(\"Responses: \", len(response), \"records\")"
   ]
  },
  {
   "cell_type": "markdown",
   "id": "a02ca164-4234-416b-8020-5184af0cec56",
   "metadata": {},
   "source": [
    "---\n",
    "\n",
    "## 📊 Basic Data Analysis of Queried Results\n",
    "\n",
    "After retrieving data from the `query` method, we can perform a simple analysis to understand sensor behavior.\n",
    "\n",
    "#### 🧮 Convert to DataFrame and Compute Statistics\n",
    "\n",
    "The code below:\n",
    "- Converts the list of JSON objects into a Pandas DataFrame\n",
    "- Parses the `time` column as datetime and convert the time zone\n",
    "- Groups by `deviceID` and summarizes `val1` and `val2`\n",
    "\n",
    "\n",
    "This provides insights like **mean**, **standard deviation**, **min/max**, and **quartiles** for each sensor’s values."
   ]
  },
  {
   "cell_type": "code",
   "execution_count": null,
   "id": "884d6ff0-bd44-4313-b68b-ca6932563218",
   "metadata": {},
   "outputs": [],
   "source": [
    "import pandas as pd\n",
    "\n",
    "# Convert to DataFrame\n",
    "df = pd.DataFrame(response)\n",
    "\n",
    "# Convert 'time' to datetime and localize to UTC\n",
    "df[\"time\"] = pd.to_datetime(df[\"time\"], utc=True)\n",
    "\n",
    "# Convert to US Eastern Time\n",
    "df[\"time\"] = df[\"time\"].dt.tz_convert(\"US/Eastern\")\n",
    "\n",
    "# Group by deviceID and describe val1 and val2\n",
    "summary = df.groupby(\"deviceID\")[[\"val1\", \"val2\"]].describe()\n",
    "\n",
    "# Print summary\n",
    "print(summary.to_string())"
   ]
  },
  {
   "cell_type": "markdown",
   "id": "a42bfe0a-4b23-4c69-8068-40b40ff64592",
   "metadata": {},
   "source": [
    "---\n",
    "\n",
    "## 📈 Visualize Sensor Readings Over Time\n",
    "\n",
    "We can plot `val2` over time to observe how each sensor behaves visually.\n",
    "\n",
    "#### 🖼️ Scatter Plot by Sensor\n",
    "\n",
    "The following code:\n",
    "\n",
    "- Loops through each unique `deviceID`\n",
    "- Filters the DataFrame for that device\n",
    "- Uses `matplotlib.pyplot.scatter()` to plot `val2` against time\n",
    "- Applies a small dot size (`s=3`) and semi-transparency (`alpha=0.5`) for clarity\n"
   ]
  },
  {
   "cell_type": "code",
   "execution_count": null,
   "id": "bbfb33df-8d18-4d9c-a539-fd54ef47e3b4",
   "metadata": {},
   "outputs": [],
   "source": [
    "import matplotlib.pyplot as plt\n",
    "\n",
    "# Plot dots for each sensor\n",
    "plt.figure(figsize=(10, 5))\n",
    "for sensor in df[\"deviceID\"].unique():\n",
    "    subset = df[df[\"deviceID\"] == sensor]\n",
    "    plt.scatter(subset[\"time\"], subset[\"val2\"], label=sensor, s=3, alpha=0.5)\n",
    "\n",
    "plt.xlabel(\"Time (US/Eastern)\")\n",
    "plt.ylabel(\"val2\")\n",
    "plt.title(\"val2 Over Time by Sensor\")\n",
    "plt.legend()\n",
    "plt.grid(True)\n",
    "plt.tight_layout()\n",
    "plt.show()"
   ]
  },
  {
   "cell_type": "code",
   "execution_count": null,
   "id": "88195546-75aa-451b-8fca-41435135003b",
   "metadata": {},
   "outputs": [],
   "source": []
  },
  {
   "cell_type": "code",
   "execution_count": null,
   "id": "c3883dbd-23df-4817-90f2-4ba7b07918eb",
   "metadata": {},
   "outputs": [],
   "source": []
  }
 ],
 "metadata": {
  "kernelspec": {
   "display_name": "Python 3 (ipykernel)",
   "language": "python",
   "name": "python3"
  },
  "language_info": {
   "codemirror_mode": {
    "name": "ipython",
    "version": 3
   },
   "file_extension": ".py",
   "mimetype": "text/x-python",
   "name": "python",
   "nbconvert_exporter": "python",
   "pygments_lexer": "ipython3",
   "version": "3.8.13"
  }
 },
 "nbformat": 4,
 "nbformat_minor": 5
}
