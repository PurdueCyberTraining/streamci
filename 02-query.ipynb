{
 "cells": [
  {
   "cell_type": "markdown",
   "id": "c1bd9d5d-a022-4656-b6f5-dca0db325974",
   "metadata": {},
   "source": [
    "# Query to StreamCI"
   ]
  },
  {
   "cell_type": "markdown",
   "id": "6278c7ad-f009-41d6-9f51-175bb9002cb0",
   "metadata": {},
   "source": []
  },
  {
   "cell_type": "code",
   "execution_count": null,
   "id": "d624ad5f-f260-4359-9f07-cc203f4018b0",
   "metadata": {},
   "outputs": [],
   "source": [
    "URL = \"https://api.streamci.org/query\"\n",
    "HEADERS = {\"Content-Type\": \"application/json\"}\n",
    "AUTH_INFO = {\n",
    "    \"target\": \"ci4fairtest\",\n",
    "    \"authtype\": \"secret\",\n",
    "    \"secret_key\": \"<SECRET_KEY>\"\n",
    "}"
   ]
  },
  {
   "cell_type": "code",
   "execution_count": null,
   "id": "fa6d579e-086e-4093-8c5f-0a83ee064494",
   "metadata": {},
   "outputs": [],
   "source": [
    "import requests\n",
    "import json\n",
    "\n",
    "payload = {\n",
    "    \"auth\": AUTH_INFO,\n",
    "    \"request\": {\n",
    "        \"method\": \"query\",\n",
    "        \"query\": {},\n",
    "        # \"project\": [\"deviceID\"],\n",
    "        \"sort\": \"deviceID\"\n",
    "        \n",
    "    }\n",
    "}\n",
    "\n",
    "headers = {\"Content-Type\": \"application/json\"}\n",
    "response = requests.post(URL, json=payload, headers=HEADERS)\n",
    "ndjson_text = response.text\n",
    "lines = ndjson_text.strip().splitlines()\n",
    "json_array = [json.loads(line) for line in lines]\n",
    "print(\"Responses: \", len(json_array))"
   ]
  },
  {
   "cell_type": "markdown",
   "id": "a02ca164-4234-416b-8020-5184af0cec56",
   "metadata": {},
   "source": [
    "## Data Analysis with the Results"
   ]
  },
  {
   "cell_type": "code",
   "execution_count": null,
   "id": "884d6ff0-bd44-4313-b68b-ca6932563218",
   "metadata": {},
   "outputs": [],
   "source": [
    "import json\n",
    "import pandas as pd\n",
    "\n",
    "\n",
    "# Flatten and convert to DataFrame\n",
    "df = pd.DataFrame(json_array)\n",
    "df[\"time\"] = pd.to_datetime(df[\"time\"].apply(lambda x: x[\"$date\"]))\n",
    "\n",
    "# Group by deviceID and compute summary stats\n",
    "summary = df.groupby(\"deviceID\")[[\"val1\", \"val2\"]].describe()\n",
    "print(summary)"
   ]
  },
  {
   "cell_type": "code",
   "execution_count": null,
   "id": "bbfb33df-8d18-4d9c-a539-fd54ef47e3b4",
   "metadata": {},
   "outputs": [],
   "source": [
    "import matplotlib.pyplot as plt\n",
    "\n",
    "# Plot dots for each sensor\n",
    "plt.figure(figsize=(10, 5))\n",
    "for sensor in df[\"deviceID\"].unique():\n",
    "    subset = df[df[\"deviceID\"] == sensor]\n",
    "    plt.scatter(subset[\"time\"], subset[\"val2\"], label=sensor, s=10)\n",
    "\n",
    "plt.xlabel(\"Time (US/Eastern)\")\n",
    "plt.ylabel(\"val2\")\n",
    "plt.title(\"val2 Over Time by Sensor\")\n",
    "plt.legend()\n",
    "plt.grid(True)\n",
    "plt.tight_layout()\n",
    "plt.show()"
   ]
  },
  {
   "cell_type": "code",
   "execution_count": null,
   "id": "88195546-75aa-451b-8fca-41435135003b",
   "metadata": {},
   "outputs": [],
   "source": []
  }
 ],
 "metadata": {
  "kernelspec": {
   "display_name": "Python 3 (ipykernel)",
   "language": "python",
   "name": "python3"
  },
  "language_info": {
   "codemirror_mode": {
    "name": "ipython",
    "version": 3
   },
   "file_extension": ".py",
   "mimetype": "text/x-python",
   "name": "python",
   "nbconvert_exporter": "python",
   "pygments_lexer": "ipython3",
   "version": "3.8.13"
  }
 },
 "nbformat": 4,
 "nbformat_minor": 5
}
